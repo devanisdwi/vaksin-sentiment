{
  "nbformat": 4,
  "nbformat_minor": 0,
  "metadata": {
    "colab": {
      "name": "Mini Bootcamp Kelas C - Day 1.ipynb",
      "provenance": []
    },
    "kernelspec": {
      "name": "python3",
      "display_name": "Python 3"
    },
    "language_info": {
      "name": "python"
    }
  },
  "cells": [
    {
      "cell_type": "code",
      "metadata": {
        "id": "3H9TQw-dofzM"
      },
      "source": [
        "pip install"
      ],
      "execution_count": null,
      "outputs": []
    },
    {
      "cell_type": "markdown",
      "metadata": {
        "id": "FY9b9b6wDryX"
      },
      "source": [
        "# Python Overview\n"
      ]
    },
    {
      "cell_type": "markdown",
      "metadata": {
        "id": "AEOy2yeMfSne"
      },
      "source": [
        "## **Kenapa Python?**"
      ]
    },
    {
      "cell_type": "markdown",
      "metadata": {
        "id": "AoQMrwHsfYfP"
      },
      "source": [
        "\n",
        "*   High Level Programming Language\n",
        "*   Readibility\n",
        "*   Interpreter\n",
        "*   New Line Execution w/o parenthesis\n",
        "*   Using Indentation & Whitespace\n",
        "*   Fast Prototyping\n",
        "*   Various Platform\n",
        "*   Shorter than the other\n",
        "*   Procedural, OOP, Functional"
      ]
    },
    {
      "cell_type": "markdown",
      "metadata": {
        "id": "BjLty3mDfd3w"
      },
      "source": [
        "### **Sintaksis**"
      ]
    },
    {
      "cell_type": "code",
      "metadata": {
        "id": "2IZOF50rmv_T",
        "colab": {
          "base_uri": "https://localhost:8080/",
          "height": 171
        },
        "outputId": "f7564e8c-781d-4062-9d98-607ef26b709a"
      },
      "source": [
        "# Perintah Dasar - Python Default (input, output)\n",
        "\n",
        "print(\"Mini Bootcamp\")\n",
        "print('Mini Bootcamp')\n",
        "print(\"Assalamu'alaikum\")\n",
        "print(\"\"\" asdhaldjalkdjalk\n",
        "          aokjdaklmdsklasdm\n",
        "          askldjaklsmdalmdsal\n",
        "          alskmdak\"\"\")\n",
        "input(\"insert in this area: \")"
      ],
      "execution_count": null,
      "outputs": [
        {
          "output_type": "stream",
          "text": [
            "Mini Bootcamp\n",
            "Mini Bootcamp\n",
            "Assalamu'alaikum\n",
            " asdhaldjalkdjalk\n",
            "          aokjdaklmdsklasdm\n",
            "          askldjaklsmdalmdsal\n",
            "          alskmdak\n",
            "insert in this area: mini bootcamp\n"
          ],
          "name": "stdout"
        },
        {
          "output_type": "execute_result",
          "data": {
            "application/vnd.google.colaboratory.intrinsic+json": {
              "type": "string"
            },
            "text/plain": [
              "'mini bootcamp'"
            ]
          },
          "metadata": {
            "tags": []
          },
          "execution_count": 2
        }
      ]
    },
    {
      "cell_type": "code",
      "metadata": {
        "id": "16YZJC89mUXF",
        "colab": {
          "base_uri": "https://localhost:8080/",
          "height": 35
        },
        "outputId": "26ab9c3d-8143-4e41-a252-6c2519d58016"
      },
      "source": [
        "# Variable\n",
        "# Awalan : underscore, huruf A-Z a-z, gaboleh pake angka\n",
        "a = \"isi\"\n",
        "a"
      ],
      "execution_count": null,
      "outputs": [
        {
          "output_type": "execute_result",
          "data": {
            "application/vnd.google.colaboratory.intrinsic+json": {
              "type": "string"
            },
            "text/plain": [
              "'isi'"
            ]
          },
          "metadata": {
            "tags": []
          },
          "execution_count": 5
        }
      ]
    },
    {
      "cell_type": "code",
      "metadata": {
        "id": "JjC2QiIYmWO2",
        "colab": {
          "base_uri": "https://localhost:8080/",
          "height": 35
        },
        "outputId": "8e74fdee-865e-4ade-e946-309c1e05aecd"
      },
      "source": [
        "# Multiple Variable\n",
        "a, b, c = \"isi\", \"isi2\", \"isi3\"\n",
        "b"
      ],
      "execution_count": null,
      "outputs": [
        {
          "output_type": "execute_result",
          "data": {
            "application/vnd.google.colaboratory.intrinsic+json": {
              "type": "string"
            },
            "text/plain": [
              "'isi2'"
            ]
          },
          "metadata": {
            "tags": []
          },
          "execution_count": 7
        }
      ]
    },
    {
      "cell_type": "code",
      "metadata": {
        "id": "PJbfhijymXlR",
        "colab": {
          "base_uri": "https://localhost:8080/",
          "height": 231
        },
        "outputId": "69eba030-fa94-4fb7-ea55-596071971977"
      },
      "source": [
        "# Concatination Variable \n",
        "d = a + \" \" + b\n",
        "d\n",
        "\n",
        "type(d)"
      ],
      "execution_count": null,
      "outputs": [
        {
          "output_type": "error",
          "ename": "NameError",
          "evalue": "ignored",
          "traceback": [
            "\u001b[0;31m---------------------------------------------------------------------------\u001b[0m",
            "\u001b[0;31mNameError\u001b[0m                                 Traceback (most recent call last)",
            "\u001b[0;32m<ipython-input-2-bb9a2de7b965>\u001b[0m in \u001b[0;36m<module>\u001b[0;34m()\u001b[0m\n\u001b[1;32m      1\u001b[0m \u001b[0;31m# Concatination Variable\u001b[0m\u001b[0;34m\u001b[0m\u001b[0;34m\u001b[0m\u001b[0;34m\u001b[0m\u001b[0m\n\u001b[0;32m----> 2\u001b[0;31m \u001b[0md\u001b[0m \u001b[0;34m=\u001b[0m \u001b[0ma\u001b[0m \u001b[0;34m+\u001b[0m \u001b[0;34m\" \"\u001b[0m \u001b[0;34m+\u001b[0m \u001b[0mb\u001b[0m\u001b[0;34m\u001b[0m\u001b[0;34m\u001b[0m\u001b[0m\n\u001b[0m\u001b[1;32m      3\u001b[0m \u001b[0md\u001b[0m\u001b[0;34m\u001b[0m\u001b[0;34m\u001b[0m\u001b[0m\n\u001b[1;32m      4\u001b[0m \u001b[0;34m\u001b[0m\u001b[0m\n\u001b[1;32m      5\u001b[0m \u001b[0mtype\u001b[0m\u001b[0;34m(\u001b[0m\u001b[0md\u001b[0m\u001b[0;34m)\u001b[0m\u001b[0;34m\u001b[0m\u001b[0;34m\u001b[0m\u001b[0m\n",
            "\u001b[0;31mNameError\u001b[0m: name 'a' is not defined"
          ]
        }
      ]
    },
    {
      "cell_type": "code",
      "metadata": {
        "id": "2mkSCBqwmaR4",
        "colab": {
          "base_uri": "https://localhost:8080/",
          "height": 35
        },
        "outputId": "f911b0c7-cfd8-4486-a69b-bf44c0801a9b"
      },
      "source": [
        "# Casting Variable\n",
        "e = 5\n",
        "f = str(e)\n",
        "str(e)"
      ],
      "execution_count": null,
      "outputs": [
        {
          "output_type": "execute_result",
          "data": {
            "application/vnd.google.colaboratory.intrinsic+json": {
              "type": "string"
            },
            "text/plain": [
              "'5'"
            ]
          },
          "metadata": {
            "tags": []
          },
          "execution_count": 18
        }
      ]
    },
    {
      "cell_type": "code",
      "metadata": {
        "colab": {
          "base_uri": "https://localhost:8080/"
        },
        "id": "bptxYiYxbpo9",
        "outputId": "8320a925-34a4-4493-c2c5-1599e7b627af"
      },
      "source": [
        "type(f)"
      ],
      "execution_count": null,
      "outputs": [
        {
          "output_type": "execute_result",
          "data": {
            "text/plain": [
              "str"
            ]
          },
          "metadata": {
            "tags": []
          },
          "execution_count": 19
        }
      ]
    },
    {
      "cell_type": "code",
      "metadata": {
        "id": "qQknq_83gjpz",
        "colab": {
          "base_uri": "https://localhost:8080/"
        },
        "outputId": "ebc119e9-0e19-4e12-de4b-b45f9831d663"
      },
      "source": [
        "# Global Variables\n",
        "\n",
        "variableGlobal = \"Aku\"\n",
        "\n",
        "def halo():\n",
        "  print(variableGlobal)\n",
        "\n",
        "halo()"
      ],
      "execution_count": null,
      "outputs": [
        {
          "output_type": "stream",
          "text": [
            "Aku\n"
          ],
          "name": "stdout"
        }
      ]
    },
    {
      "cell_type": "code",
      "metadata": {
        "id": "IszD-SgCgxuQ",
        "colab": {
          "base_uri": "https://localhost:8080/"
        },
        "outputId": "622aaa79-8428-46cd-8017-eede329ceb29"
      },
      "source": [
        "# Slicing\n",
        "\n",
        "a = [\"a\", \"b\", \"c\", \"d\", \"e\"]\n",
        "a[:-4]"
      ],
      "execution_count": null,
      "outputs": [
        {
          "output_type": "execute_result",
          "data": {
            "text/plain": [
              "['a']"
            ]
          },
          "metadata": {
            "tags": []
          },
          "execution_count": 30
        }
      ]
    },
    {
      "cell_type": "code",
      "metadata": {
        "id": "tuX4D3YEmfAr",
        "colab": {
          "base_uri": "https://localhost:8080/"
        },
        "outputId": "2127ca5e-e265-438a-ff1d-756ca311a935"
      },
      "source": [
        "# Length\n",
        "len(a)"
      ],
      "execution_count": null,
      "outputs": [
        {
          "output_type": "execute_result",
          "data": {
            "text/plain": [
              "5"
            ]
          },
          "metadata": {
            "tags": []
          },
          "execution_count": 31
        }
      ]
    },
    {
      "cell_type": "markdown",
      "metadata": {
        "id": "zKxx89IfmCiu"
      },
      "source": [
        "### **Arrays**"
      ]
    },
    {
      "cell_type": "markdown",
      "metadata": {
        "id": "EGTzMyTNgzFN"
      },
      "source": [
        "Python Data Types:\n",
        "\n",
        "1.   Text : str (', \", \"\"\")\n",
        "2.   Numeric : int, float, complex\n",
        "3.   Sequence : list, tuple, range\n",
        "4.   Mapping : dict\n",
        "5.   Set : set, frozenset\n",
        "6.   Boolean : bool\n",
        "7.   Binary : bytes, bytearray, memoryview"
      ]
    },
    {
      "cell_type": "code",
      "metadata": {
        "id": "v9Jks3N-m6x4",
        "colab": {
          "base_uri": "https://localhost:8080/"
        },
        "outputId": "b4a04544-9355-470c-b0ca-6aefe6fd613a"
      },
      "source": [
        "# string\n",
        "a = \"aku\"\n",
        "type(a)"
      ],
      "execution_count": null,
      "outputs": [
        {
          "output_type": "execute_result",
          "data": {
            "text/plain": [
              "str"
            ]
          },
          "metadata": {
            "tags": []
          },
          "execution_count": 32
        }
      ]
    },
    {
      "cell_type": "code",
      "metadata": {
        "id": "LgNyVVIOnB9e",
        "colab": {
          "base_uri": "https://localhost:8080/"
        },
        "outputId": "a58f60e8-0df4-4d5e-deab-86d5b9fb787b"
      },
      "source": [
        "# int (positif & negatif)\n",
        "a = 1\n",
        "# float\n",
        "b = 1.5\n",
        "# complex\n",
        "c = 2j\n",
        "\n",
        "type(c)"
      ],
      "execution_count": null,
      "outputs": [
        {
          "output_type": "execute_result",
          "data": {
            "text/plain": [
              "complex"
            ]
          },
          "metadata": {
            "tags": []
          },
          "execution_count": 37
        }
      ]
    },
    {
      "cell_type": "code",
      "metadata": {
        "id": "8Vb31GmunHht",
        "colab": {
          "base_uri": "https://localhost:8080/"
        },
        "outputId": "ac2bb679-aac1-4590-ebbe-7179d4fa916f"
      },
      "source": [
        "# list[] (ordered, mutable, duplicate)\n",
        "list = [\"bakso\", \"sate\", \"soto\"]\n",
        "\n"
      ],
      "execution_count": null,
      "outputs": [
        {
          "output_type": "execute_result",
          "data": {
            "text/plain": [
              "['martabak']"
            ]
          },
          "metadata": {
            "tags": []
          },
          "execution_count": 39
        }
      ]
    },
    {
      "cell_type": "code",
      "metadata": {
        "id": "CsfvDEKztjYh",
        "colab": {
          "base_uri": "https://localhost:8080/"
        },
        "outputId": "479d4932-f7f4-40af-a50e-c48d5c45df22"
      },
      "source": [
        "# tuple() (ordered, immutable, duplicate)\n",
        "tuple = (\"hm\", 1, 2)\n",
        "tuple"
      ],
      "execution_count": null,
      "outputs": [
        {
          "output_type": "execute_result",
          "data": {
            "text/plain": [
              "('hm', 1, 2)"
            ]
          },
          "metadata": {
            "tags": []
          },
          "execution_count": 45
        }
      ]
    },
    {
      "cell_type": "code",
      "metadata": {
        "id": "n19_NN9gtkog",
        "colab": {
          "base_uri": "https://localhost:8080/",
          "height": 35
        },
        "outputId": "d306c273-6274-42fb-ffb0-3ae34e3ff57e"
      },
      "source": [
        "# dictionary{,} (ordered ver3.7, mutable, non-dupllicate)\n",
        "dict = {\"key1\" : \"bakso\", \"makanan2\" : \"gadogado\"}\n",
        "dict['makanan2']"
      ],
      "execution_count": null,
      "outputs": [
        {
          "output_type": "execute_result",
          "data": {
            "application/vnd.google.colaboratory.intrinsic+json": {
              "type": "string"
            },
            "text/plain": [
              "'gadogado'"
            ]
          },
          "metadata": {
            "tags": []
          },
          "execution_count": 48
        }
      ]
    },
    {
      "cell_type": "code",
      "metadata": {
        "id": "-18EaeZ4tmu4",
        "colab": {
          "base_uri": "https://localhost:8080/"
        },
        "outputId": "ca861377-48fc-4079-90d8-e0cf7b5bce3e"
      },
      "source": [
        "# set{} (unordered, unindexed, non-duplicate)\n",
        "set = {\"1\", 1, 1.5}\n",
        "set"
      ],
      "execution_count": null,
      "outputs": [
        {
          "output_type": "execute_result",
          "data": {
            "text/plain": [
              "{1, '1', 1.5}"
            ]
          },
          "metadata": {
            "tags": []
          },
          "execution_count": 50
        }
      ]
    },
    {
      "cell_type": "code",
      "metadata": {
        "id": "_KkPyyxGtquy",
        "colab": {
          "base_uri": "https://localhost:8080/"
        },
        "outputId": "b3315937-24b3-40b8-d3dd-7e8534c97904"
      },
      "source": [
        "# boolean\n",
        "# 0 = false\n",
        "# 1 = true\n",
        "\n",
        "a = bool(1)\n",
        "type(a)"
      ],
      "execution_count": null,
      "outputs": [
        {
          "output_type": "execute_result",
          "data": {
            "text/plain": [
              "bool"
            ]
          },
          "metadata": {
            "tags": []
          },
          "execution_count": 52
        }
      ]
    },
    {
      "cell_type": "markdown",
      "metadata": {
        "id": "xAS4mJxBfi7i"
      },
      "source": [
        "### **Percabangan dan Perulangan**\n",
        "\n"
      ]
    },
    {
      "cell_type": "code",
      "metadata": {
        "id": "sDWzSTpZfmgu",
        "colab": {
          "base_uri": "https://localhost:8080/"
        },
        "outputId": "0fa7f054-cda3-4e17-fe09-2fca9936d557"
      },
      "source": [
        "# Percabangan Dasar\n",
        "x = 50\n",
        "y = 50\n",
        "if y > x: \n",
        "  print(\"y lebih besar dari x\")\n",
        "elif x == y:\n",
        "  print(\"x dan y sama besar\")\n",
        "else:\n",
        "  print(\"x lebih besar dari y\")"
      ],
      "execution_count": null,
      "outputs": [
        {
          "output_type": "stream",
          "text": [
            "x dan y sama besar\n"
          ],
          "name": "stdout"
        }
      ]
    },
    {
      "cell_type": "code",
      "metadata": {
        "id": "6JZroKhMwqFL",
        "colab": {
          "base_uri": "https://localhost:8080/",
          "height": 129
        },
        "outputId": "9718da5b-fab8-461d-c626-fd646137adfc"
      },
      "source": [
        "# Mempersingkat Percabangan (Ternary Operator)\n",
        "if x > y: print(\"x lebih besar dari y\")\n",
        "\n",
        "print(\"X\") if x > y else print(\"Y\")\n"
      ],
      "execution_count": null,
      "outputs": [
        {
          "output_type": "error",
          "ename": "SyntaxError",
          "evalue": "ignored",
          "traceback": [
            "\u001b[0;36m  File \u001b[0;32m\"<ipython-input-81-ed5a1f95fdd8>\"\u001b[0;36m, line \u001b[0;32m6\u001b[0m\n\u001b[0;31m    print(\"X\") if x > y elif print(\"=\") if x == y else print(\"Y\")\u001b[0m\n\u001b[0m                           ^\u001b[0m\n\u001b[0;31mSyntaxError\u001b[0m\u001b[0;31m:\u001b[0m invalid syntax\n"
          ]
        }
      ]
    },
    {
      "cell_type": "code",
      "metadata": {
        "colab": {
          "base_uri": "https://localhost:8080/",
          "height": 129
        },
        "id": "5OCbpWBylGfQ",
        "outputId": "f5f42ee4-26d7-44da-ba73-d434809a8508"
      },
      "source": [
        "print(\"X\") if x > y else print(\"=\") elif x == y else print(\"Y\")"
      ],
      "execution_count": null,
      "outputs": [
        {
          "output_type": "error",
          "ename": "SyntaxError",
          "evalue": "ignored",
          "traceback": [
            "\u001b[0;36m  File \u001b[0;32m\"<ipython-input-83-57507aeb4158>\"\u001b[0;36m, line \u001b[0;32m1\u001b[0m\n\u001b[0;31m    print(\"X\") if x > y else print(\"=\") elif x == y else print(\"Y\")\u001b[0m\n\u001b[0m                                           ^\u001b[0m\n\u001b[0;31mSyntaxError\u001b[0m\u001b[0;31m:\u001b[0m invalid syntax\n"
          ]
        }
      ]
    },
    {
      "cell_type": "code",
      "metadata": {
        "id": "CdnPmlOmxVRA",
        "colab": {
          "base_uri": "https://localhost:8080/"
        },
        "outputId": "9f44effd-5e71-4a92-fc82-120378a99db2"
      },
      "source": [
        "# While Loop\n",
        "i = 1\n",
        "while i < :\n",
        "  print(i)\n",
        "  i += 1"
      ],
      "execution_count": null,
      "outputs": [
        {
          "output_type": "stream",
          "text": [
            "1\n",
            "2\n",
            "3\n",
            "4\n",
            "5\n"
          ],
          "name": "stdout"
        }
      ]
    },
    {
      "cell_type": "code",
      "metadata": {
        "id": "ddM1tqXNyme-",
        "colab": {
          "base_uri": "https://localhost:8080/"
        },
        "outputId": "93f01e84-bc94-48c3-8c4d-9d5e6657fd43"
      },
      "source": [
        "# Break While Loop\n",
        "i = 1\n",
        "while i < 6:\n",
        "  print(i)\n",
        "  if i == 3:\n",
        "    break\n",
        "  i += 1"
      ],
      "execution_count": null,
      "outputs": [
        {
          "output_type": "stream",
          "text": [
            "1\n",
            "2\n",
            "3\n"
          ],
          "name": "stdout"
        }
      ]
    },
    {
      "cell_type": "code",
      "metadata": {
        "id": "PXabhnpVyoz6",
        "colab": {
          "base_uri": "https://localhost:8080/"
        },
        "outputId": "e1ef2523-cb2c-410b-fd46-3e9f0fad87b8"
      },
      "source": [
        "# Continue While Loop\n",
        "i = 0\n",
        "while i < 6:\n",
        "  i += 1\n",
        "  if i == 4:\n",
        "    continue\n",
        "  print(i)"
      ],
      "execution_count": null,
      "outputs": [
        {
          "output_type": "stream",
          "text": [
            "1\n",
            "2\n",
            "3\n",
            "5\n",
            "6\n"
          ],
          "name": "stdout"
        }
      ]
    },
    {
      "cell_type": "code",
      "metadata": {
        "id": "8T2bWQA2y7K2",
        "colab": {
          "base_uri": "https://localhost:8080/"
        },
        "outputId": "cce5bac0-deed-47a7-c5ac-e7d9f878a35d"
      },
      "source": [
        "# For Loop\n",
        "foods = [\"mie\", \"pecel\", \"naspad\"]\n",
        "for x in foods:\n",
        "  print(x)"
      ],
      "execution_count": null,
      "outputs": [
        {
          "output_type": "stream",
          "text": [
            "mie\n",
            "pecel\n",
            "naspad\n"
          ],
          "name": "stdout"
        }
      ]
    },
    {
      "cell_type": "code",
      "metadata": {
        "id": "ScySWFJZzfD3",
        "colab": {
          "base_uri": "https://localhost:8080/"
        },
        "outputId": "a69fd421-0e62-40b1-e2ee-86e3168c5833"
      },
      "source": [
        "# Break For Loop\n",
        "foods = [\"mie\", \"pecel\", \"naspad\"]\n",
        "for x in foods:\n",
        "  if x == \"pecel\":\n",
        "    break\n",
        "  print(x)"
      ],
      "execution_count": null,
      "outputs": [
        {
          "output_type": "stream",
          "text": [
            "mie\n"
          ],
          "name": "stdout"
        }
      ]
    },
    {
      "cell_type": "code",
      "metadata": {
        "id": "lSpzbbvNzo6W",
        "colab": {
          "base_uri": "https://localhost:8080/"
        },
        "outputId": "af56f9ab-aad4-4029-c525-251137fecadd"
      },
      "source": [
        "# Continue For Loop\n",
        "foods = [\"mie\", \"pecel\", \"naspad\"]\n",
        "for x in foods:\n",
        "  if x == \"pecel\":\n",
        "    continue\n",
        "  print(x)"
      ],
      "execution_count": null,
      "outputs": [
        {
          "output_type": "stream",
          "text": [
            "mie\n",
            "naspad\n"
          ],
          "name": "stdout"
        }
      ]
    },
    {
      "cell_type": "code",
      "metadata": {
        "id": "3E0NOgVTzz3P",
        "colab": {
          "base_uri": "https://localhost:8080/"
        },
        "outputId": "608ba21f-92b2-4a36-fd50-83877ca41195"
      },
      "source": [
        "# Range For Loop\n",
        "for x in range(2, 5):\n",
        "  print(x)\n",
        "\n",
        "for y in range(2, 20, 2):\n",
        "  print(y) "
      ],
      "execution_count": null,
      "outputs": [
        {
          "output_type": "stream",
          "text": [
            "2\n",
            "3\n",
            "4\n",
            "2\n",
            "4\n",
            "6\n",
            "8\n",
            "10\n",
            "12\n",
            "14\n",
            "16\n",
            "18\n"
          ],
          "name": "stdout"
        }
      ]
    },
    {
      "cell_type": "code",
      "metadata": {
        "id": "m1Y2IgW50NXO",
        "colab": {
          "base_uri": "https://localhost:8080/"
        },
        "outputId": "548f791d-a737-47b4-f57b-ed6d926e2d0e"
      },
      "source": [
        "# Nested Loop\n",
        "foods = [\"mie\", \"pecel\", \"naspad\"]\n",
        "drinks = [\"es jeruk\", \"boba\", \"air putih\"]\n",
        "\n",
        "for x in foods:\n",
        "  for y in drinks:\n",
        "    print(x, y)"
      ],
      "execution_count": null,
      "outputs": [
        {
          "output_type": "stream",
          "text": [
            "mie es jeruk\n",
            "mie boba\n",
            "mie air putih\n",
            "pecel es jeruk\n",
            "pecel boba\n",
            "pecel air putih\n",
            "naspad es jeruk\n",
            "naspad boba\n",
            "naspad air putih\n"
          ],
          "name": "stdout"
        }
      ]
    },
    {
      "cell_type": "markdown",
      "metadata": {
        "id": "GxXXLPb5foyn"
      },
      "source": [
        "### **Fungsi**"
      ]
    },
    {
      "cell_type": "code",
      "metadata": {
        "id": "9iO1J7iBfqxa"
      },
      "source": [
        "def salam():\n",
        "  print('Hai!')"
      ],
      "execution_count": null,
      "outputs": []
    },
    {
      "cell_type": "code",
      "metadata": {
        "id": "_0HWtUwj2CC2",
        "colab": {
          "base_uri": "https://localhost:8080/"
        },
        "outputId": "ca31eaea-0afa-4690-8e9b-d3b484cae5f8"
      },
      "source": [
        "salam()"
      ],
      "execution_count": null,
      "outputs": [
        {
          "output_type": "stream",
          "text": [
            "Hai!\n"
          ],
          "name": "stdout"
        }
      ]
    },
    {
      "cell_type": "code",
      "metadata": {
        "id": "kMFe3u482DBg"
      },
      "source": [
        "def kenalan(nama):\n",
        "  print('Hai {}, kenalin aku'.format(nama))"
      ],
      "execution_count": null,
      "outputs": []
    },
    {
      "cell_type": "code",
      "metadata": {
        "id": "KTEjRMIR2UlP",
        "colab": {
          "base_uri": "https://localhost:8080/"
        },
        "outputId": "16b55eeb-5a20-4f42-9516-a17c385840fc"
      },
      "source": [
        "kenalan('Dwi')"
      ],
      "execution_count": null,
      "outputs": [
        {
          "output_type": "stream",
          "text": [
            "Hai Dwi, kenalin aku\n"
          ],
          "name": "stdout"
        }
      ]
    },
    {
      "cell_type": "code",
      "metadata": {
        "id": "CL2GU7M52W88"
      },
      "source": [
        "def lengkap(nama, asal, umur):\n",
        "  print('Nama aku {}, asal {}, umur {}'.format(nama, asal, umur))"
      ],
      "execution_count": null,
      "outputs": []
    },
    {
      "cell_type": "code",
      "metadata": {
        "id": "hClfoIIr2yYE",
        "colab": {
          "base_uri": "https://localhost:8080/"
        },
        "outputId": "3fd978b1-1222-4874-fe8d-d6ee73cc01c5"
      },
      "source": [
        "lengkap('Dwi', 'Jatim', 100)"
      ],
      "execution_count": null,
      "outputs": [
        {
          "output_type": "stream",
          "text": [
            "Nama aku Dwi, asal Jatim, umur 100\n"
          ],
          "name": "stdout"
        }
      ]
    },
    {
      "cell_type": "code",
      "metadata": {
        "id": "qn6Kix0XkM8A"
      },
      "source": [
        ""
      ],
      "execution_count": null,
      "outputs": []
    }
  ]
}